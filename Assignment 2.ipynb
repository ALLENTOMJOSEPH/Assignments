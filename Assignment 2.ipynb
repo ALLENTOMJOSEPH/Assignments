{
 "cells": [
  {
   "cell_type": "code",
   "execution_count": null,
   "id": "86c361d8",
   "metadata": {},
   "outputs": [],
   "source": [
    "1.What are the two values of the Boolean data type? How do you write them?\n",
    "True and False are the two boolean datatype.They are written as True  and False.True is considered as 1 and false is considered as 0"
   ]
  },
  {
   "cell_type": "code",
   "execution_count": null,
   "id": "9b0d7d63",
   "metadata": {},
   "outputs": [],
   "source": [
    "2. What are the three different types of Boolean operators?\n",
    "#AND OR NOT are the 3 boolean operators available.operations are done based on a truth table\n"
   ]
  },
  {
   "cell_type": "code",
   "execution_count": null,
   "id": "1fc607d7",
   "metadata": {},
   "outputs": [],
   "source": [
    "3. Make a list of each Boolean operator's truth tables (i.e. every possible combination of Boolean values for the operator and what it evaluate ).\n",
    "True and True is True\n",
    "\n",
    "True and False is False.\n",
    "\n",
    "False and True is False.\n",
    "\n",
    "False and False is False.\n",
    "\n",
    "True or True is True.\n",
    "\n",
    "True or False is True.\n",
    "\n",
    "False or True is True.\n",
    "\n",
    "False or False is False.\n",
    "\n",
    "not True is False.\n",
    "\n",
    "not False is True.\n"
   ]
  },
  {
   "cell_type": "code",
   "execution_count": null,
   "id": "b1858763",
   "metadata": {},
   "outputs": [],
   "source": [
    "##4. What are the values of the following expressions?\n",
    "(5 > 4) and (3 == 5)####True##\n",
    "not (5 > 4)#############False##\n",
    "(5 > 4) or (3 == 5)#####True##\n",
    "not ((5 > 4) or (3 == 5))#False\n",
    "(True and True) and (True == False)##False\n",
    "(not False) or (not True)##True"
   ]
  },
  {
   "cell_type": "code",
   "execution_count": null,
   "id": "6e5770c2",
   "metadata": {},
   "outputs": [],
   "source": [
    "5.What are the six comparison operators?..\n",
    "Less than ( < )..\n",
    "Less than or equal to ( <=)..\n",
    "Greater than ( >)..\n",
    "Greater than or equal to ( >=)..\n",
    "Equal to ( == )..\n",
    "Not equal to ( !=) .."
   ]
  },
  {
   "cell_type": "markdown",
   "id": "295f94db",
   "metadata": {},
   "source": [
    "#6. How do you tell the difference between the equal to and assignment operators?Describe a\n",
    "condition and when you would use one...\n",
    "An assignment(=) operator stores a value in the object designated by the left operand. An assignment expression has the value of the left operand after the assignment..Equal to(==) compares value of left and side expressions, return 1 if they are equal other will it will return 0.Equal to contains two operands"
   ]
  },
  {
   "cell_type": "code",
   "execution_count": null,
   "id": "e3e1f7c9",
   "metadata": {},
   "outputs": [],
   "source": [
    "##check 7. Identify the three blocks in this code:\n",
    "##ans=all the 3 blocks are inside if statement\n",
    "spam = 0\n",
    "if spam == 10:\n",
    "print('eggs')##indentation block&print should be at a tab distance\n",
    "if spam > 5:\n",
    "print('bacon')##indentation block&print should be at a tab distance\n",
    "else:\n",
    "print('ham')##indentation block& no need to have print in 3 line and it makes harder(eventhough printing like that is not an error) \n",
    "print('spam')\n",
    "print('spam')\n"
   ]
  },
  {
   "cell_type": "code",
   "execution_count": 5,
   "id": "4289d701",
   "metadata": {},
   "outputs": [
    {
     "name": "stdout",
     "output_type": "stream",
     "text": [
      "ham \n",
      " spam \n",
      " spam\n"
     ]
    }
   ],
   "source": [
    "##questoin 7 correct answer\n",
    "spam = 0\n",
    "if spam == 10:\n",
    "    print('eggs')\n",
    "if spam > 5\n",
    "    print('bacon')\n",
    "else:\n",
    "    print('ham \\n spam \\n spam')\n",
    "       "
   ]
  },
  {
   "cell_type": "code",
   "execution_count": 14,
   "id": "7520b63d",
   "metadata": {},
   "outputs": [
    {
     "name": "stdout",
     "output_type": "stream",
     "text": [
      "spam--.>>>1\n",
      "Hello\n"
     ]
    }
   ],
   "source": [
    "##8. Write code that prints Hello if 1 is stored in spam, prints Howdy if 2 is stored in spam and\n",
    "##prints Greetings! if anything else is stored in spam.\n",
    "spam=int(input(\"spam--.>>>\"))\n",
    "if spam==1:\n",
    "    print(\"Hello\")\n",
    "elif spam==2:\n",
    "    print(\"howdy\")\n",
    "else:\n",
    "    print(\"greetings\")"
   ]
  },
  {
   "cell_type": "code",
   "execution_count": null,
   "id": "5e21755b",
   "metadata": {},
   "outputs": [],
   "source": [
    "##9.If your programme is stuck in an endless loop, what keys you’ll press?\n",
    "ctrl+c can be used to end an endless loop..interrupt and restart kernel can also be done"
   ]
  },
  {
   "cell_type": "code",
   "execution_count": null,
   "id": "d548aff6",
   "metadata": {},
   "outputs": [],
   "source": [
    "##10. How can you tell the difference between break and continue?\n",
    "Break-->>it leaves the loop and skips the remaining execution of complete loop. It is useful if condition evaluates,\n",
    "to be true..\n",
    "continue--->jumps for next iteration and skips execution of remaining statement(s) inside the loop for current iteration.It is \n",
    "useful, if wants to skip execution of some statement(s) inside the loop for any particular iteration\n",
    "..example===print(\"----Using \\\"break\\\"-------\")\n",
    "for n in nums:\n",
    "    if n == 3:\n",
    "        break\n",
    "    print(n)\n",
    "    ##output--1 2\n",
    "    \n",
    "\n",
    "print(\"----Using \\\"continue\\\"-------\")\n",
    "for n in nums:\n",
    "    if n == 3:\n",
    "        continue\n",
    "    print(n)\n",
    "    ##output 1 2 4 5"
   ]
  },
  {
   "cell_type": "code",
   "execution_count": null,
   "id": "c8122e84",
   "metadata": {},
   "outputs": [],
   "source": [
    "##11. In a for loop, what is the difference between range(10), range(0, 10), and range(0, 10, 1)?\n",
    "All are same and all are starting from 0 ,goes till 9 with a step value of 1"
   ]
  },
  {
   "cell_type": "code",
   "execution_count": null,
   "id": "290dff2f",
   "metadata": {},
   "outputs": [],
   "source": [
    "##12. Write a short program that prints the numbers 1 to 10 using a for loop. \n",
    "##Then write an equivalent program that prints the numbers 1 to 10 using a while loop.\n",
    "##for loop\n",
    "for i in range(10):\n",
    "    i+=1\n",
    "    print(i)\n",
    "\n",
    "    \n",
    "##12 while loop\n",
    "i=0\n",
    "while(i<10):\n",
    "    i=i+1\n",
    "    print(i)\n",
    "    \n"
   ]
  },
  {
   "cell_type": "code",
   "execution_count": null,
   "id": "b8091fa7",
   "metadata": {},
   "outputs": [],
   "source": [
    "##13. If you had a function named bacon() inside a module named spam, how would you call it\n",
    "after importing spam?\n",
    "spam.module()"
   ]
  },
  {
   "cell_type": "code",
   "execution_count": null,
   "id": "af623216",
   "metadata": {},
   "outputs": [],
   "source": []
  }
 ],
 "metadata": {
  "kernelspec": {
   "display_name": "Python 3 (ipykernel)",
   "language": "python",
   "name": "python3"
  },
  "language_info": {
   "codemirror_mode": {
    "name": "ipython",
    "version": 3
   },
   "file_extension": ".py",
   "mimetype": "text/x-python",
   "name": "python",
   "nbconvert_exporter": "python",
   "pygments_lexer": "ipython3",
   "version": "3.9.7"
  }
 },
 "nbformat": 4,
 "nbformat_minor": 5
}
