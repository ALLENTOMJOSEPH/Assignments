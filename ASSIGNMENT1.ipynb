{
 "cells": [
  {
   "cell_type": "markdown",
   "id": "a60f1b82",
   "metadata": {},
   "source": [
    "#1 In the below elements which of them are values or an expression? \n",
    "eg:- \n",
    "values can be integer or string.\n",
    "Here xpressions will be mathematical operators.\n",
    " EXPRESSION  *   /  + -\n",
    " VALUE      'hello',-87.8,6"
   ]
  },
  {
   "cell_type": "markdown",
   "id": "3ed41f9d",
   "metadata": {},
   "source": [
    "#2. What is the difference between string and variable? \n",
    "string can be stored in variable.\n",
    "Example of string is \"allen\" and \"ineuron\".\n",
    "String is stored using single or double  quotes'.\n",
    "variable is the place where values and datas can be stored"
   ]
  },
  {
   "cell_type": "markdown",
   "id": "aa5d6b2e",
   "metadata": {},
   "source": [
    "#3Describe three different data types.\n",
    "bool:either true or false comes under boolean.\n",
    "int:integer values comes under this.\n",
    "float:floating values real numbers comes under this,ie values with decimal points."
   ]
  },
  {
   "cell_type": "markdown",
   "id": "bb73d5ca",
   "metadata": {},
   "source": [
    "#4. What is an expression made up of? What do all expressions do?\n",
    "Expressions consist of operators(addition,subtraction,division,multiplication,etc),variable and values.\n",
    "eg:b=20+70.\n",
    "    Also we can say expressons aer something which are evaluated to produce a value\n"
   ]
  },
  {
   "cell_type": "markdown",
   "id": "b2dc2947",
   "metadata": {},
   "source": [
    "#5 This assignment statements, like spam = 10. What is the difference between an expression and a statement?\n",
    "The statement is mainly used to assign some value.It does not  return or evaluate anything.\n",
    "But expressions are evaluated.and expressions consist of operators,variables and values\n"
   ]
  },
  {
   "cell_type": "markdown",
   "id": "01d1a9e0",
   "metadata": {},
   "source": [
    "#6. After running the following code, what does the variable bacon contain?\n",
    "bacon = 22\n",
    "bacon + 1\n",
    "output::23"
   ]
  },
  {
   "cell_type": "markdown",
   "id": "75b6ea31",
   "metadata": {},
   "source": [
    "#7. What should the values of the following two terms be?\n",
    "'spam' + 'spamspam'   output::'spamspamspam'\n",
    "'spam' * 3            output::'spamspamspam'\n",
    "both outputs are same"
   ]
  },
  {
   "cell_type": "markdown",
   "id": "b4286842",
   "metadata": {},
   "source": [
    "#8 Why is eggs a valid variable name while 100 is invalid?\n",
    "eggs is a string and 100 is a integer,we can give string to a variable.A mix of string and integer,starting with string is possible."
   ]
  },
  {
   "cell_type": "markdown",
   "id": "d1e488ee",
   "metadata": {},
   "source": [
    "#9. What three functions can be used to get the integer, floating-point number, or string version of a value?\n",
    "int(),float(),str() are the respective functions to get those"
   ]
  },
  {
   "cell_type": "markdown",
   "id": "89be60f4",
   "metadata": {},
   "source": [
    "#10. Why does this expression cause an error? How can you fix it?\n",
    "'I have eaten ' + 99 + ' burritos.'.\n",
    "output:: 'I have eaten and burritos are strings..it cannot be concatenated with integer 99.We can do it after type casting"
   ]
  },
  {
   "cell_type": "code",
   "execution_count": null,
   "id": "80d809be",
   "metadata": {},
   "outputs": [],
   "source": []
  }
 ],
 "metadata": {
  "kernelspec": {
   "display_name": "Python 3 (ipykernel)",
   "language": "python",
   "name": "python3"
  },
  "language_info": {
   "codemirror_mode": {
    "name": "ipython",
    "version": 3
   },
   "file_extension": ".py",
   "mimetype": "text/x-python",
   "name": "python",
   "nbconvert_exporter": "python",
   "pygments_lexer": "ipython3",
   "version": "3.9.7"
  }
 },
 "nbformat": 4,
 "nbformat_minor": 5
}
